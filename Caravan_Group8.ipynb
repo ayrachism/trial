{
 "cells": [
  {
   "cell_type": "markdown",
   "metadata": {},
   "source": [
    "# Caravan"
   ]
  },
  {
   "cell_type": "markdown",
   "metadata": {},
   "source": [
    "## Importing Relevant Packages"
   ]
  },
  {
   "cell_type": "code",
   "execution_count": 1,
   "metadata": {},
   "outputs": [],
   "source": [
    "# %load ../standard_import.txt\n",
    "import pandas as pd\n",
    "import numpy as np\n",
    "import matplotlib as mpl\n",
    "import matplotlib.pyplot as plt\n",
    "import seaborn as sns\n",
    "\n",
    "import sklearn.linear_model as skl_lm\n",
    "from sklearn.discriminant_analysis import LinearDiscriminantAnalysis \n",
    "from sklearn.discriminant_analysis import QuadraticDiscriminantAnalysis #Not necessary\n",
    "from sklearn.metrics import confusion_matrix, classification_report, precision_score\n",
    "from sklearn import preprocessing\n",
    "from sklearn import neighbors #Not necessary\n",
    "\n",
    "import statsmodels.api as sm\n",
    "import statsmodels.discrete.discrete_model as smf\n",
    "\n",
    "# for test train data split\n",
    "from sklearn import datasets, linear_model\n",
    "from sklearn.model_selection import train_test_split"
   ]
  },
  {
   "cell_type": "code",
   "execution_count": 2,
   "metadata": {},
   "outputs": [],
   "source": [
    "from warnings import simplefilter\n",
    "simplefilter(action='ignore', category=FutureWarning)"
   ]
  },
  {
   "cell_type": "markdown",
   "metadata": {},
   "source": [
    "## Import Datasets"
   ]
  },
  {
   "cell_type": "code",
   "execution_count": 3,
   "metadata": {},
   "outputs": [],
   "source": [
    "df = pd.read_csv('Caravan.csv')\n",
    "\n",
    "y = df.Purchase.factorize()[0]\n",
    "X = df.drop('Purchase', axis=1).astype('float64') \n",
    "X_scaled = preprocessing.scale(X) #standardizes"
   ]
  },
  {
   "cell_type": "code",
   "execution_count": 4,
   "metadata": {},
   "outputs": [],
   "source": [
    "attribute_array = [\"MOSTYPE\",\"MAANTHUI\",\"MGEMOMV\",\"MGEMLEEF\",\"MOSHOOFD\",\"MGODRK\",\"MGODPR\",\"MGODOV\",\"MGODGE\",\"MRELGE\",\"MRELSA\",\"MRELOV\",\"MFALLEEN\",\"MFGEKIND\",\"MFWEKIND\",\"MOPLHOOG\",\"MOPLMIDD\",\"MOPLLAAG\",\"MBERHOOG\",\"MBERZELF\",\"MBERBOER\",\"MBERMIDD\",\"MBERARBG\",\"MBERARBO\",\"MSKA\",\"MSKB1\",\"MSKB2\",\"MSKC\",\"MSKD\",\"MHHUUR\",\"MHKOOP\",\"MAUT1\",\"MAUT2\",\"MAUT0\",\"MZFONDS\",\"MZPART\",\"MINKM30\",\"MINK3045\",\"MINK4575\",\"MINK7512\",\"MINK123M\",\"MINKGEM\",\"MKOOPKLA\",\"PWAPART\",\"PWABEDR\",\"PWALAND\",\"PPERSAUT\",\"PBESAUT\",\"PMOTSCO\",\"PVRAAUT\",\"PAANHANG\",\"PTRACTOR\",\"PWERKT\",\"PBROM\",\"PLEVEN\",\"PPERSONG\",\"PGEZONG\",\"PWAOREG\",\"PBRAND\",\"PZEILPL\",\"PPLEZIER\",\"PFIETS\",\"PINBOED\",\"PBYSTAND\",\"AWAPART\",\"AWABEDR\",\"AWALAND\",\"APERSAUT\",\"ABESAUT\",\"AMOTSCO\",\"AVRAAUT\",\"AAANHANG\",\"ATRACTOR\",\"AWERKT\",\"ABROM\",\"ALEVEN\",\"APERSONG\",\"AGEZONG\",\"AWAOREG\",\"ABRAND\",\"AZEILPL\",\"APLEZIER\",\"AFIETS\",\"AINBOED\",\"ABYSTAND\"]"
   ]
  },
  {
   "cell_type": "markdown",
   "metadata": {},
   "source": [
    "## Visualizing the Dataset"
   ]
  },
  {
   "cell_type": "code",
   "execution_count": 5,
   "metadata": {},
   "outputs": [
    {
     "data": {
      "text/html": [
       "<div>\n",
       "<style scoped>\n",
       "    .dataframe tbody tr th:only-of-type {\n",
       "        vertical-align: middle;\n",
       "    }\n",
       "\n",
       "    .dataframe tbody tr th {\n",
       "        vertical-align: top;\n",
       "    }\n",
       "\n",
       "    .dataframe thead th {\n",
       "        text-align: right;\n",
       "    }\n",
       "</style>\n",
       "<table border=\"1\" class=\"dataframe\">\n",
       "  <thead>\n",
       "    <tr style=\"text-align: right;\">\n",
       "      <th></th>\n",
       "      <th>Purchased</th>\n",
       "      <th>Count</th>\n",
       "    </tr>\n",
       "  </thead>\n",
       "  <tbody>\n",
       "    <tr>\n",
       "      <td>0</td>\n",
       "      <td>Yes</td>\n",
       "      <td>348</td>\n",
       "    </tr>\n",
       "    <tr>\n",
       "      <td>1</td>\n",
       "      <td>No</td>\n",
       "      <td>5474</td>\n",
       "    </tr>\n",
       "  </tbody>\n",
       "</table>\n",
       "</div>"
      ],
      "text/plain": [
       "  Purchased  Count\n",
       "0       Yes    348\n",
       "1        No   5474"
      ]
     },
     "execution_count": 5,
     "metadata": {},
     "output_type": "execute_result"
    }
   ],
   "source": [
    "yes_no = df['Purchase'].value_counts()\n",
    "no = yes_no[0]\n",
    "yes = yes_no[1]\n",
    "yes_no_df = pd.DataFrame({'Purchased' : ['Yes', 'No'], 'Count' : [yes, no]})\n",
    "yes_no_df"
   ]
  },
  {
   "cell_type": "code",
   "execution_count": 6,
   "metadata": {},
   "outputs": [
    {
     "data": {
      "image/png": "[encoded data removed]",
      "text/plain": [
       "<Figure size 360x360 with 1 Axes>"
      ]
     },
     "metadata": {
      "needs_background": "light"
     },
     "output_type": "display_data"
    }
   ],
   "source": [
    "fig, ax = plt.subplots(figsize = (5,5 ))\n",
    "\n",
    "ind = np.arange(2)\n",
    "\n",
    "\n",
    "bars1 = ax.bar(ind, yes_no_df['Count'], \n",
    "        color = '#008080', \n",
    "        label='No of People')\n",
    "ax.set_title(\"Summary of the Dataset\")\n",
    "ax.set_ylabel(\"No of People\")\n",
    "ax.set_ylim((0,6000))\n",
    "ax.set_xticks(range(0,len(ind)))\n",
    "ax.set_xticklabels(list(yes_no_df['Purchased']))\n",
    "ax.set_xlabel(\"Insured\");"
   ]
  },
  {
   "cell_type": "markdown",
   "metadata": {},
   "source": [
    "### Scatterplot for MINKGEM and MOSTYPE wrt Purchase"
   ]
  },
  {
   "cell_type": "code",
   "execution_count": 7,
   "metadata": {},
   "outputs": [
    {
     "data": {
      "image/png": "[encoded data removed]",
      "text/plain": [
       "<Figure size 1080x360 with 3 Axes>"
      ]
     },
     "metadata": {
      "needs_background": "light"
     },
     "output_type": "display_data"
    }
   ],
   "source": [
    "fig = plt.figure(figsize=(15,5))\n",
    "gs = mpl.gridspec.GridSpec(1, 4) \n",
    "ax1 = plt.subplot(gs[0,:-2])\n",
    "ax2 = plt.subplot(gs[0,-2])\n",
    "ax3 = plt.subplot(gs[0,-1])\n",
    "\n",
    "ax1.scatter(df[df.Purchase == 'Yes'].MINKGEM, df[df.Purchase == 'Yes'].MOSTYPE, s=80, c='orange', marker='o',\n",
    "            linewidths=3, alpha = .4)\n",
    "ax1.scatter(df[df.Purchase == 'No'].MINKGEM, df[df.Purchase == 'No'].MOSTYPE, s=40, marker='o', linewidths='1',\n",
    "            edgecolors='blue', facecolors='white', alpha=.2)\n",
    "#some points are overlapping. they are the darker ones.\n",
    "ax1.set_ylim(bottom=0)\n",
    "ax1.set_ylabel('MOSTYPE')\n",
    "ax1.set_xlim(left=-0.1)\n",
    "ax1.set_xlabel('MINKGEM')\n",
    "\n",
    "c_palette = {'No':'lightblue', 'Yes':'orange'}\n",
    "sns.boxplot('Purchase', 'MINKGEM', data=df, orient='v', ax=ax2, palette=c_palette)\n",
    "sns.boxplot('Purchase', 'MOSTYPE', data=df, orient='v', ax=ax3, palette=c_palette)\n",
    "gs.tight_layout(plt.gcf())\n",
    "\n",
    "# MINKGEM: Avg Income Level, MOSTYPE: Customer Subtype (In terms of social status. Based on Keys.)\n",
    "# Choice of predictors here was on judgement as there are too many predictors for all of them to be taken into account\n",
    "# In the First Diagram, opacity and size of circles have been varied so that frequency of a particular point is also apparent. \n",
    "# Darker means more frequency.\n",
    "# We can see wider boxplot for MOSTYPE it is categorical with huge number of levels \n",
    "# While MINKGEM is ordinal and its boxplot shows low variance and mean income level at 4 as expected by the levels"
   ]
  },
  {
   "cell_type": "markdown",
   "metadata": {},
   "source": [
    "## Logistic Regression"
   ]
  },
  {
   "cell_type": "markdown",
   "metadata": {},
   "source": [
    "### Division into Test and Train Data and creating dummy y values"
   ]
  },
  {
   "cell_type": "code",
   "execution_count": 8,
   "metadata": {},
   "outputs": [
    {
     "name": "stdout",
     "output_type": "stream",
     "text": [
      "(4657, 86) (4657,)\n",
      "(1165, 86) (1165,)\n"
     ]
    }
   ],
   "source": [
    "X_train, X_test, y_train, y_test = train_test_split(X, y, test_size=0.2) # Split was run on other test_size too but no significant difference was observed\n",
    "print (X_train.shape, y_train.shape) # Dimension of train data\n",
    "print (X_test.shape, y_test.shape) # Dimension of test data"
   ]
  },
  {
   "cell_type": "markdown",
   "metadata": {},
   "source": [
    "### Using Scikit-learn"
   ]
  },
  {
   "cell_type": "markdown",
   "metadata": {},
   "source": [
    "#### Full Dataset"
   ]
  },
  {
   "cell_type": "code",
   "execution_count": 9,
   "metadata": {},
   "outputs": [],
   "source": [
    "regr = skl_lm.LogisticRegression()\n",
    "regr.fit(X_train, y_train); # Fit on train dataset"
   ]
  },
  {
   "cell_type": "code",
   "execution_count": 10,
   "metadata": {
    "scrolled": true
   },
   "outputs": [
    {
     "name": "stdout",
     "output_type": "stream",
     "text": [
      "True          0   1\n",
      "Predicted          \n",
      "0          1092  69\n",
      "1             4   0\n",
      "              precision    recall  f1-score   support\n",
      "\n",
      "           0       0.94      1.00      0.97      1096\n",
      "           1       0.00      0.00      0.00        69\n",
      "\n",
      "    accuracy                           0.94      1165\n",
      "   macro avg       0.47      0.50      0.48      1165\n",
      "weighted avg       0.88      0.94      0.91      1165\n",
      "\n"
     ]
    }
   ],
   "source": [
    "pred = regr.predict(X_test) # Test on test dataset using predict\n",
    "cm_df = pd.DataFrame(confusion_matrix(y_test, pred).T, index=regr.classes_,\n",
    "                     columns=regr.classes_)\n",
    "cm_df.index.name = 'Predicted'\n",
    "cm_df.columns.name = 'True'\n",
    "print(cm_df)\n",
    "print(classification_report(y_test, pred))"
   ]
  },
  {
   "cell_type": "code",
   "execution_count": 11,
   "metadata": {},
   "outputs": [
    {
     "name": "stdout",
     "output_type": "stream",
     "text": [
      "Pred     0   1\n",
      "True          \n",
      "0     1069  27\n",
      "1       64   5\n",
      "              precision    recall  f1-score   support\n",
      "\n",
      "           0       0.94      0.98      0.96      1096\n",
      "           1       0.16      0.07      0.10        69\n",
      "\n",
      "    accuracy                           0.92      1165\n",
      "   macro avg       0.55      0.52      0.53      1165\n",
      "weighted avg       0.90      0.92      0.91      1165\n",
      "\n"
     ]
    }
   ],
   "source": [
    "pred_p = regr.predict_proba(X_test) # Test on test dataset using predict_proba\n",
    "cm_df = pd.DataFrame({'True': y_test, 'Pred': pred_p[:,1] > .25})\n",
    "cm_df.Pred.replace(to_replace={True: 1, False: 0}, inplace=True)\n",
    "print(cm_df.groupby(['True', 'Pred']).size().unstack('True').T)\n",
    "print(classification_report(y_test, cm_df.Pred))"
   ]
  },
  {
   "cell_type": "markdown",
   "metadata": {},
   "source": [
    "### Using Statsmodels"
   ]
  },
  {
   "cell_type": "code",
   "execution_count": 12,
   "metadata": {
    "scrolled": true
   },
   "outputs": [
    {
     "name": "stdout",
     "output_type": "stream",
     "text": [
      "Optimization terminated successfully.\n",
      "         Current function value: 0.219346\n",
      "         Iterations 7\n"
     ]
    },
    {
     "data": {
      "text/html": [
       "<div>\n",
       "<style scoped>\n",
       "    .dataframe tbody tr th:only-of-type {\n",
       "        vertical-align: middle;\n",
       "    }\n",
       "\n",
       "    .dataframe tbody tr th {\n",
       "        vertical-align: top;\n",
       "    }\n",
       "\n",
       "    .dataframe thead th {\n",
       "        text-align: right;\n",
       "    }\n",
       "</style>\n",
       "<table border=\"1\" class=\"dataframe\">\n",
       "  <thead>\n",
       "    <tr style=\"text-align: right;\">\n",
       "      <th></th>\n",
       "      <th>Coef.</th>\n",
       "      <th>Std.Err.</th>\n",
       "      <th>z</th>\n",
       "      <th>P&gt;|z|</th>\n",
       "      <th>[0.025</th>\n",
       "      <th>0.975]</th>\n",
       "    </tr>\n",
       "  </thead>\n",
       "  <tbody>\n",
       "    <tr>\n",
       "      <td>const</td>\n",
       "      <td>-2.946593</td>\n",
       "      <td>0.323020</td>\n",
       "      <td>-9.122002</td>\n",
       "      <td>7.374895e-20</td>\n",
       "      <td>-3.579701</td>\n",
       "      <td>-2.313484</td>\n",
       "    </tr>\n",
       "    <tr>\n",
       "      <td>x1</td>\n",
       "      <td>0.113242</td>\n",
       "      <td>0.034335</td>\n",
       "      <td>3.298132</td>\n",
       "      <td>9.733029e-04</td>\n",
       "      <td>0.045946</td>\n",
       "      <td>0.180538</td>\n",
       "    </tr>\n",
       "    <tr>\n",
       "      <td>x2</td>\n",
       "      <td>0.062821</td>\n",
       "      <td>0.038901</td>\n",
       "      <td>1.614906</td>\n",
       "      <td>1.063310e-01</td>\n",
       "      <td>-0.013423</td>\n",
       "      <td>0.139065</td>\n",
       "    </tr>\n",
       "    <tr>\n",
       "      <td>x3</td>\n",
       "      <td>-0.104435</td>\n",
       "      <td>0.032253</td>\n",
       "      <td>-3.238000</td>\n",
       "      <td>1.203709e-03</td>\n",
       "      <td>-0.167650</td>\n",
       "      <td>-0.041221</td>\n",
       "    </tr>\n",
       "    <tr>\n",
       "      <td>x4</td>\n",
       "      <td>-0.054666</td>\n",
       "      <td>0.020835</td>\n",
       "      <td>-2.623783</td>\n",
       "      <td>8.695908e-03</td>\n",
       "      <td>-0.095501</td>\n",
       "      <td>-0.013830</td>\n",
       "    </tr>\n",
       "  </tbody>\n",
       "</table>\n",
       "</div>"
      ],
      "text/plain": [
       "          Coef.  Std.Err.         z         P>|z|    [0.025    0.975]\n",
       "const -2.946593  0.323020 -9.122002  7.374895e-20 -3.579701 -2.313484\n",
       "x1     0.113242  0.034335  3.298132  9.733029e-04  0.045946  0.180538\n",
       "x2     0.062821  0.038901  1.614906  1.063310e-01 -0.013423  0.139065\n",
       "x3    -0.104435  0.032253 -3.238000  1.203709e-03 -0.167650 -0.041221\n",
       "x4    -0.054666  0.020835 -2.623783  8.695908e-03 -0.095501 -0.013830"
      ]
     },
     "execution_count": 12,
     "metadata": {},
     "output_type": "execute_result"
    }
   ],
   "source": [
    "X_sm = sm.add_constant(df[['MRELGE', 'MOPLHOOG', 'MOPLLAAG', 'MHHUUR']]) #Other Single Predictors: MGEMLEEF  MLR: df[[''MRELGE', 'MOPLHOOG', 'MOPLLAAG', 'MHHUUR']]\n",
    "# Couldn't run on full model as the data frame turned out to be singular after add.constant\n",
    "est = smf.Logit(y, np.asarray(X_sm)).fit()\n",
    "est.summary2().tables[1]"
   ]
  },
  {
   "cell_type": "markdown",
   "metadata": {},
   "source": [
    "## Choosing Predictors"
   ]
  },
  {
   "cell_type": "code",
   "execution_count": 13,
   "metadata": {
    "collapsed": true
   },
   "outputs": [
    {
     "name": "stdout",
     "output_type": "stream",
     "text": [
      "Optimization terminated successfully.\n",
      "         Current function value: 0.224000\n",
      "         Iterations 7\n",
      "Optimization terminated successfully.\n",
      "         Current function value: 0.226290\n",
      "         Iterations 7\n",
      "Optimization terminated successfully.\n",
      "         Current function value: 0.225715\n",
      "         Iterations 7\n",
      "Optimization terminated successfully.\n",
      "         Current function value: 0.226333\n",
      "         Iterations 7\n",
      "Optimization terminated successfully.\n",
      "         Current function value: 0.223987\n",
      "         Iterations 7\n",
      "Optimization terminated successfully.\n",
      "         Current function value: 0.226324\n",
      "         Iterations 7\n",
      "Optimization terminated successfully.\n",
      "         Current function value: 0.225805\n",
      "         Iterations 7\n",
      "Optimization terminated successfully.\n",
      "         Current function value: 0.226335\n",
      "         Iterations 7\n",
      "Optimization terminated successfully.\n",
      "         Current function value: 0.225478\n",
      "         Iterations 7\n",
      "Optimization terminated successfully.\n",
      "         Current function value: 0.223700\n",
      "         Iterations 7\n",
      "Optimization terminated successfully.\n",
      "         Current function value: 0.225754\n",
      "         Iterations 7\n",
      "Optimization terminated successfully.\n",
      "         Current function value: 0.224288\n",
      "         Iterations 7\n",
      "Optimization terminated successfully.\n",
      "         Current function value: 0.224830\n",
      "         Iterations 7\n",
      "Optimization terminated successfully.\n",
      "         Current function value: 0.226311\n",
      "         Iterations 7\n",
      "Optimization terminated successfully.\n",
      "         Current function value: 0.225823\n",
      "         Iterations 7\n",
      "Optimization terminated successfully.\n",
      "         Current function value: 0.223169\n",
      "         Iterations 7\n",
      "Optimization terminated successfully.\n",
      "         Current function value: 0.225405\n",
      "         Iterations 7\n",
      "Optimization terminated successfully.\n",
      "         Current function value: 0.222230\n",
      "         Iterations 7\n",
      "Optimization terminated successfully.\n",
      "         Current function value: 0.224395\n",
      "         Iterations 7\n",
      "Optimization terminated successfully.\n",
      "         Current function value: 0.226119\n",
      "         Iterations 7\n",
      "Optimization terminated successfully.\n",
      "         Current function value: 0.224504\n",
      "         Iterations 7\n",
      "Optimization terminated successfully.\n",
      "         Current function value: 0.225246\n",
      "         Iterations 7\n",
      "Optimization terminated successfully.\n",
      "         Current function value: 0.225405\n",
      "         Iterations 7\n",
      "Optimization terminated successfully.\n",
      "         Current function value: 0.224776\n",
      "         Iterations 7\n",
      "Optimization terminated successfully.\n",
      "         Current function value: 0.224543\n",
      "         Iterations 7\n",
      "Optimization terminated successfully.\n",
      "         Current function value: 0.225945\n",
      "         Iterations 7\n",
      "Optimization terminated successfully.\n",
      "         Current function value: 0.226335\n",
      "         Iterations 7\n",
      "Optimization terminated successfully.\n",
      "         Current function value: 0.225438\n",
      "         Iterations 7\n",
      "Optimization terminated successfully.\n",
      "         Current function value: 0.224080\n",
      "         Iterations 7\n",
      "Optimization terminated successfully.\n",
      "         Current function value: 0.223126\n",
      "         Iterations 7\n",
      "Optimization terminated successfully.\n",
      "         Current function value: 0.223182\n",
      "         Iterations 7\n",
      "Optimization terminated successfully.\n",
      "         Current function value: 0.223844\n",
      "         Iterations 7\n",
      "Optimization terminated successfully.\n",
      "         Current function value: 0.226313\n",
      "         Iterations 7\n",
      "Optimization terminated successfully.\n",
      "         Current function value: 0.223187\n",
      "         Iterations 7\n",
      "Optimization terminated successfully.\n",
      "         Current function value: 0.224713\n",
      "         Iterations 7\n",
      "Optimization terminated successfully.\n",
      "         Current function value: 0.224759\n",
      "         Iterations 7\n",
      "Optimization terminated successfully.\n",
      "         Current function value: 0.222930\n",
      "         Iterations 7\n",
      "Optimization terminated successfully.\n",
      "         Current function value: 0.226343\n",
      "         Iterations 7\n",
      "Optimization terminated successfully.\n",
      "         Current function value: 0.224751\n",
      "         Iterations 7\n",
      "Optimization terminated successfully.\n",
      "         Current function value: 0.224856\n",
      "         Iterations 7\n",
      "Optimization terminated successfully.\n",
      "         Current function value: 0.226341\n",
      "         Iterations 7\n",
      "Optimization terminated successfully.\n",
      "         Current function value: 0.222599\n",
      "         Iterations 7\n",
      "Optimization terminated successfully.\n",
      "         Current function value: 0.221800\n",
      "         Iterations 7\n",
      "Optimization terminated successfully.\n",
      "         Current function value: 0.221847\n",
      "         Iterations 7\n",
      "Optimization terminated successfully.\n",
      "         Current function value: 0.226341\n",
      "         Iterations 7\n",
      "Optimization terminated successfully.\n",
      "         Current function value: 0.226044\n",
      "         Iterations 8\n",
      "Optimization terminated successfully.\n",
      "         Current function value: 0.214183\n",
      "         Iterations 8\n",
      "Optimization terminated successfully.\n",
      "         Current function value: 0.226320\n",
      "         Iterations 7\n",
      "Optimization terminated successfully.\n",
      "         Current function value: 0.226328\n",
      "         Iterations 7\n",
      "Warning: Maximum number of iterations has been exceeded.\n",
      "         Current function value: 0.226248\n",
      "         Iterations: 35\n",
      "Optimization terminated successfully.\n",
      "         Current function value: 0.226275\n",
      "         Iterations 7\n",
      "Optimization terminated successfully.\n",
      "         Current function value: 0.226258\n",
      "         Iterations 7\n"
     ]
    },
    {
     "name": "stderr",
     "output_type": "stream",
     "text": [
      "c:\\users\\ayushi\\appdata\\local\\programs\\python\\python37-32\\lib\\site-packages\\statsmodels\\base\\model.py:512: ConvergenceWarning: Maximum Likelihood optimization failed to converge. Check mle_retvals\n",
      "  \"Check mle_retvals\", ConvergenceWarning)\n"
     ]
    },
    {
     "name": "stdout",
     "output_type": "stream",
     "text": [
      "Optimization terminated successfully.\n",
      "         Current function value: 0.226120\n",
      "         Iterations 21\n",
      "Optimization terminated successfully.\n",
      "         Current function value: 0.225035\n",
      "         Iterations 8\n",
      "Optimization terminated successfully.\n",
      "         Current function value: 0.226143\n",
      "         Iterations 7\n",
      "Optimization terminated successfully.\n",
      "         Current function value: 0.226281\n",
      "         Iterations 8\n",
      "Optimization terminated successfully.\n",
      "         Current function value: 0.225806\n",
      "         Iterations 7\n",
      "Optimization terminated successfully.\n",
      "         Current function value: 0.226027\n",
      "         Iterations 7\n",
      "Optimization terminated successfully.\n",
      "         Current function value: 0.222009\n",
      "         Iterations 7\n",
      "Optimization terminated successfully.\n",
      "         Current function value: 0.226302\n",
      "         Iterations 7\n",
      "Optimization terminated successfully.\n",
      "         Current function value: 0.224354\n",
      "         Iterations 7\n",
      "Optimization terminated successfully.\n",
      "         Current function value: 0.225998\n",
      "         Iterations 7\n",
      "Optimization terminated successfully.\n",
      "         Current function value: 0.226329\n",
      "         Iterations 7\n",
      "Optimization terminated successfully.\n",
      "         Current function value: 0.225051\n",
      "         Iterations 7\n",
      "Optimization terminated successfully.\n",
      "         Current function value: 0.222454\n",
      "         Iterations 7\n",
      "Optimization terminated successfully.\n",
      "         Current function value: 0.226343\n",
      "         Iterations 7\n",
      "Optimization terminated successfully.\n",
      "         Current function value: 0.226058\n",
      "         Iterations 8\n",
      "Optimization terminated successfully.\n",
      "         Current function value: 0.217295\n",
      "         Iterations 7\n",
      "Optimization terminated successfully.\n",
      "         Current function value: 0.226290\n",
      "         Iterations 7\n",
      "Optimization terminated successfully.\n",
      "         Current function value: 0.226310\n",
      "         Iterations 7\n",
      "Warning: Maximum number of iterations has been exceeded.\n",
      "         Current function value: 0.226248\n",
      "         Iterations: 35\n",
      "Optimization terminated successfully.\n",
      "         Current function value: 0.226304\n",
      "         Iterations 7\n",
      "Optimization terminated successfully.\n",
      "         Current function value: 0.226153\n",
      "         Iterations 8\n",
      "Warning: Maximum number of iterations has been exceeded.\n",
      "         Current function value: 0.226120\n",
      "         Iterations: 35\n",
      "Optimization terminated successfully.\n",
      "         Current function value: 0.224984\n",
      "         Iterations 8\n",
      "Optimization terminated successfully.\n",
      "         Current function value: 0.225804\n",
      "         Iterations 7\n",
      "Optimization terminated successfully.\n",
      "         Current function value: 0.226300\n",
      "         Iterations 7\n",
      "Optimization terminated successfully.\n",
      "         Current function value: 0.225944\n",
      "         Iterations 7\n",
      "Optimization terminated successfully.\n",
      "         Current function value: 0.226168\n",
      "         Iterations 7\n",
      "Optimization terminated successfully.\n",
      "         Current function value: 0.224570\n",
      "         Iterations 7\n"
     ]
    },
    {
     "name": "stderr",
     "output_type": "stream",
     "text": [
      "c:\\users\\ayushi\\appdata\\local\\programs\\python\\python37-32\\lib\\site-packages\\statsmodels\\base\\model.py:512: ConvergenceWarning: Maximum Likelihood optimization failed to converge. Check mle_retvals\n",
      "  \"Check mle_retvals\", ConvergenceWarning)\n",
      "c:\\users\\ayushi\\appdata\\local\\programs\\python\\python37-32\\lib\\site-packages\\statsmodels\\base\\model.py:512: ConvergenceWarning: Maximum Likelihood optimization failed to converge. Check mle_retvals\n",
      "  \"Check mle_retvals\", ConvergenceWarning)\n"
     ]
    },
    {
     "name": "stdout",
     "output_type": "stream",
     "text": [
      "Optimization terminated successfully.\n",
      "         Current function value: 0.226166\n",
      "         Iterations 7\n",
      "Optimization terminated successfully.\n",
      "         Current function value: 0.223710\n",
      "         Iterations 7\n",
      "Optimization terminated successfully.\n",
      "         Current function value: 0.225887\n",
      "         Iterations 7\n",
      "Optimization terminated successfully.\n",
      "         Current function value: 0.226211\n",
      "         Iterations 7\n",
      "Optimization terminated successfully.\n",
      "         Current function value: 0.224895\n",
      "         Iterations 7\n"
     ]
    }
   ],
   "source": [
    "# BIC gives a goodness of fit for models\n",
    "# It was chosen here as it was available in est.summary2 and is considered better than AIC\n",
    "\n",
    "bic_array = [] # To store the BIC values of every y ~ x\n",
    "feature_array = [] # To store the relevant predictors only\n",
    "for element in attribute_array:\n",
    "    X_sm = sm.add_constant(df[[element]])\n",
    "    est = smf.Logit(y, np.asarray(X_sm)).fit() # y ~ x\n",
    "    bic_array.append(est.bic) # Extracts BIC value from est\n",
    "    if est.bic < 2630: # Number chosen after multiple trials with the next step\n",
    "        feature_array.append(element) # Lower the BIC, better the fit"
   ]
  },
  {
   "cell_type": "code",
   "execution_count": 14,
   "metadata": {},
   "outputs": [
    {
     "name": "stdout",
     "output_type": "stream",
     "text": [
      "504.0040780763908\n",
      "22.45003514643999\n",
      "2636.940861135553\n",
      "2652.8758646161796 2511.2811716668402\n"
     ]
    }
   ],
   "source": [
    "print(np.var(bic_array))\n",
    "print(np.std(bic_array))\n",
    "print(np.mean(bic_array))\n",
    "print(max(bic_array), min(bic_array))"
   ]
  },
  {
   "cell_type": "code",
   "execution_count": 15,
   "metadata": {},
   "outputs": [
    {
     "name": "stdout",
     "output_type": "stream",
     "text": [
      "['MOSTYPE', 'MOSHOOFD', 'MRELGE', 'MRELOV', 'MOPLHOOG', 'MOPLLAAG', 'MSKD', 'MHHUUR', 'MHKOOP', 'MAUT1', 'MAUT0', 'MINKM30', 'MINKGEM', 'MKOOPKLA', 'PWAPART', 'PPERSAUT', 'PBRAND', 'PPLEZIER', 'AWAPART', 'APERSAUT', 'APLEZIER']\n",
      "21\n"
     ]
    }
   ],
   "source": [
    "print(feature_array)\n",
    "print(len(feature_array))"
   ]
  },
  {
   "cell_type": "markdown",
   "metadata": {},
   "source": [
    "## Final Model"
   ]
  },
  {
   "cell_type": "code",
   "execution_count": 16,
   "metadata": {},
   "outputs": [
    {
     "name": "stdout",
     "output_type": "stream",
     "text": [
      "Warning: Maximum number of iterations has been exceeded.\n",
      "         Current function value: inf\n",
      "         Iterations: 35\n"
     ]
    },
    {
     "name": "stderr",
     "output_type": "stream",
     "text": [
      "c:\\users\\ayushi\\appdata\\local\\programs\\python\\python37-32\\lib\\site-packages\\statsmodels\\discrete\\discrete_model.py:1736: RuntimeWarning: overflow encountered in exp\n",
      "  return 1/(1+np.exp(-X))\n",
      "c:\\users\\ayushi\\appdata\\local\\programs\\python\\python37-32\\lib\\site-packages\\statsmodels\\discrete\\discrete_model.py:1789: RuntimeWarning: divide by zero encountered in log\n",
      "  return np.sum(np.log(self.cdf(q*np.dot(X,params))))\n",
      "c:\\users\\ayushi\\appdata\\local\\programs\\python\\python37-32\\lib\\site-packages\\statsmodels\\base\\model.py:512: ConvergenceWarning: Maximum Likelihood optimization failed to converge. Check mle_retvals\n",
      "  \"Check mle_retvals\", ConvergenceWarning)\n"
     ]
    },
    {
     "data": {
      "text/html": [
       "<div>\n",
       "<style scoped>\n",
       "    .dataframe tbody tr th:only-of-type {\n",
       "        vertical-align: middle;\n",
       "    }\n",
       "\n",
       "    .dataframe tbody tr th {\n",
       "        vertical-align: top;\n",
       "    }\n",
       "\n",
       "    .dataframe thead th {\n",
       "        text-align: right;\n",
       "    }\n",
       "</style>\n",
       "<table border=\"1\" class=\"dataframe\">\n",
       "  <thead>\n",
       "    <tr style=\"text-align: right;\">\n",
       "      <th></th>\n",
       "      <th>Coef.</th>\n",
       "      <th>Std.Err.</th>\n",
       "      <th>z</th>\n",
       "      <th>P&gt;|z|</th>\n",
       "      <th>[0.025</th>\n",
       "      <th>0.975]</th>\n",
       "    </tr>\n",
       "  </thead>\n",
       "  <tbody>\n",
       "    <tr>\n",
       "      <td>const</td>\n",
       "      <td>-7.449964e+07</td>\n",
       "      <td>3.204540e+06</td>\n",
       "      <td>-23.248151</td>\n",
       "      <td>1.485147e-119</td>\n",
       "      <td>-8.078042e+07</td>\n",
       "      <td>-6.821886e+07</td>\n",
       "    </tr>\n",
       "    <tr>\n",
       "      <td>x1</td>\n",
       "      <td>8.910453e-02</td>\n",
       "      <td>4.974794e-02</td>\n",
       "      <td>1.791120</td>\n",
       "      <td>7.327401e-02</td>\n",
       "      <td>-8.399630e-03</td>\n",
       "      <td>1.866087e-01</td>\n",
       "    </tr>\n",
       "    <tr>\n",
       "      <td>x2</td>\n",
       "      <td>-2.604175e-01</td>\n",
       "      <td>2.201467e-01</td>\n",
       "      <td>-1.182927</td>\n",
       "      <td>2.368381e-01</td>\n",
       "      <td>-6.918972e-01</td>\n",
       "      <td>1.710621e-01</td>\n",
       "    </tr>\n",
       "    <tr>\n",
       "      <td>x3</td>\n",
       "      <td>4.821765e-01</td>\n",
       "      <td>1.021142e-01</td>\n",
       "      <td>4.721935</td>\n",
       "      <td>2.336110e-06</td>\n",
       "      <td>2.820364e-01</td>\n",
       "      <td>6.823166e-01</td>\n",
       "    </tr>\n",
       "    <tr>\n",
       "      <td>x4</td>\n",
       "      <td>4.903408e-01</td>\n",
       "      <td>1.116267e-01</td>\n",
       "      <td>4.392685</td>\n",
       "      <td>1.119590e-05</td>\n",
       "      <td>2.715566e-01</td>\n",
       "      <td>7.091250e-01</td>\n",
       "    </tr>\n",
       "    <tr>\n",
       "      <td>x5</td>\n",
       "      <td>1.270156e-01</td>\n",
       "      <td>4.642650e-02</td>\n",
       "      <td>2.735842</td>\n",
       "      <td>6.222091e-03</td>\n",
       "      <td>3.602129e-02</td>\n",
       "      <td>2.180098e-01</td>\n",
       "    </tr>\n",
       "    <tr>\n",
       "      <td>x6</td>\n",
       "      <td>-1.568107e-01</td>\n",
       "      <td>4.558490e-02</td>\n",
       "      <td>-3.439969</td>\n",
       "      <td>5.817804e-04</td>\n",
       "      <td>-2.461554e-01</td>\n",
       "      <td>-6.746590e-02</td>\n",
       "    </tr>\n",
       "    <tr>\n",
       "      <td>x7</td>\n",
       "      <td>6.349409e-02</td>\n",
       "      <td>6.955884e-02</td>\n",
       "      <td>0.912811</td>\n",
       "      <td>3.613419e-01</td>\n",
       "      <td>-7.283874e-02</td>\n",
       "      <td>1.998269e-01</td>\n",
       "    </tr>\n",
       "    <tr>\n",
       "      <td>x8</td>\n",
       "      <td>8.277736e+06</td>\n",
       "      <td>3.560601e+05</td>\n",
       "      <td>23.248147</td>\n",
       "      <td>1.485278e-119</td>\n",
       "      <td>7.579872e+06</td>\n",
       "      <td>8.975601e+06</td>\n",
       "    </tr>\n",
       "    <tr>\n",
       "      <td>x9</td>\n",
       "      <td>8.277736e+06</td>\n",
       "      <td>3.560601e+05</td>\n",
       "      <td>23.248147</td>\n",
       "      <td>1.485278e-119</td>\n",
       "      <td>7.579872e+06</td>\n",
       "      <td>8.975601e+06</td>\n",
       "    </tr>\n",
       "    <tr>\n",
       "      <td>x10</td>\n",
       "      <td>1.866912e-01</td>\n",
       "      <td>6.258787e-02</td>\n",
       "      <td>2.982866</td>\n",
       "      <td>2.855630e-03</td>\n",
       "      <td>6.402125e-02</td>\n",
       "      <td>3.093612e-01</td>\n",
       "    </tr>\n",
       "    <tr>\n",
       "      <td>x11</td>\n",
       "      <td>1.993996e-01</td>\n",
       "      <td>7.760806e-02</td>\n",
       "      <td>2.569316</td>\n",
       "      <td>1.018996e-02</td>\n",
       "      <td>4.729060e-02</td>\n",
       "      <td>3.515086e-01</td>\n",
       "    </tr>\n",
       "    <tr>\n",
       "      <td>x12</td>\n",
       "      <td>-9.071687e-02</td>\n",
       "      <td>4.953961e-02</td>\n",
       "      <td>-1.831199</td>\n",
       "      <td>6.707087e-02</td>\n",
       "      <td>-1.878127e-01</td>\n",
       "      <td>6.378974e-03</td>\n",
       "    </tr>\n",
       "    <tr>\n",
       "      <td>x13</td>\n",
       "      <td>1.225503e-01</td>\n",
       "      <td>6.018301e-02</td>\n",
       "      <td>2.036294</td>\n",
       "      <td>4.172082e-02</td>\n",
       "      <td>4.593783e-03</td>\n",
       "      <td>2.405069e-01</td>\n",
       "    </tr>\n",
       "    <tr>\n",
       "      <td>x14</td>\n",
       "      <td>2.147513e-01</td>\n",
       "      <td>4.999803e-02</td>\n",
       "      <td>4.295195</td>\n",
       "      <td>1.745399e-05</td>\n",
       "      <td>1.167569e-01</td>\n",
       "      <td>3.127456e-01</td>\n",
       "    </tr>\n",
       "    <tr>\n",
       "      <td>x15</td>\n",
       "      <td>7.061400e-01</td>\n",
       "      <td>4.226749e-01</td>\n",
       "      <td>1.670646</td>\n",
       "      <td>9.479166e-02</td>\n",
       "      <td>-1.222875e-01</td>\n",
       "      <td>1.534568e+00</td>\n",
       "    </tr>\n",
       "    <tr>\n",
       "      <td>x16</td>\n",
       "      <td>3.417667e-01</td>\n",
       "      <td>4.686214e-02</td>\n",
       "      <td>7.293023</td>\n",
       "      <td>3.030753e-13</td>\n",
       "      <td>2.499186e-01</td>\n",
       "      <td>4.336148e-01</td>\n",
       "    </tr>\n",
       "    <tr>\n",
       "      <td>x17</td>\n",
       "      <td>1.328430e-01</td>\n",
       "      <td>4.195143e-02</td>\n",
       "      <td>3.166591</td>\n",
       "      <td>1.542369e-03</td>\n",
       "      <td>5.061974e-02</td>\n",
       "      <td>2.150663e-01</td>\n",
       "    </tr>\n",
       "    <tr>\n",
       "      <td>x18</td>\n",
       "      <td>-1.646625e-02</td>\n",
       "      <td>3.084180e-01</td>\n",
       "      <td>-0.053389</td>\n",
       "      <td>9.574217e-01</td>\n",
       "      <td>-6.209545e-01</td>\n",
       "      <td>5.880220e-01</td>\n",
       "    </tr>\n",
       "    <tr>\n",
       "      <td>x19</td>\n",
       "      <td>-9.562546e-01</td>\n",
       "      <td>8.428151e-01</td>\n",
       "      <td>-1.134596</td>\n",
       "      <td>2.565447e-01</td>\n",
       "      <td>-2.608142e+00</td>\n",
       "      <td>6.956327e-01</td>\n",
       "    </tr>\n",
       "    <tr>\n",
       "      <td>x20</td>\n",
       "      <td>-9.841264e-02</td>\n",
       "      <td>1.808723e-01</td>\n",
       "      <td>-0.544100</td>\n",
       "      <td>5.863726e-01</td>\n",
       "      <td>-4.529158e-01</td>\n",
       "      <td>2.560905e-01</td>\n",
       "    </tr>\n",
       "    <tr>\n",
       "      <td>x21</td>\n",
       "      <td>2.464923e+00</td>\n",
       "      <td>9.924865e-01</td>\n",
       "      <td>2.483583</td>\n",
       "      <td>1.300681e-02</td>\n",
       "      <td>5.196847e-01</td>\n",
       "      <td>4.410160e+00</td>\n",
       "    </tr>\n",
       "  </tbody>\n",
       "</table>\n",
       "</div>"
      ],
      "text/plain": [
       "              Coef.      Std.Err.          z          P>|z|        [0.025  \\\n",
       "const -7.449964e+07  3.204540e+06 -23.248151  1.485147e-119 -8.078042e+07   \n",
       "x1     8.910453e-02  4.974794e-02   1.791120   7.327401e-02 -8.399630e-03   \n",
       "x2    -2.604175e-01  2.201467e-01  -1.182927   2.368381e-01 -6.918972e-01   \n",
       "x3     4.821765e-01  1.021142e-01   4.721935   2.336110e-06  2.820364e-01   \n",
       "x4     4.903408e-01  1.116267e-01   4.392685   1.119590e-05  2.715566e-01   \n",
       "x5     1.270156e-01  4.642650e-02   2.735842   6.222091e-03  3.602129e-02   \n",
       "x6    -1.568107e-01  4.558490e-02  -3.439969   5.817804e-04 -2.461554e-01   \n",
       "x7     6.349409e-02  6.955884e-02   0.912811   3.613419e-01 -7.283874e-02   \n",
       "x8     8.277736e+06  3.560601e+05  23.248147  1.485278e-119  7.579872e+06   \n",
       "x9     8.277736e+06  3.560601e+05  23.248147  1.485278e-119  7.579872e+06   \n",
       "x10    1.866912e-01  6.258787e-02   2.982866   2.855630e-03  6.402125e-02   \n",
       "x11    1.993996e-01  7.760806e-02   2.569316   1.018996e-02  4.729060e-02   \n",
       "x12   -9.071687e-02  4.953961e-02  -1.831199   6.707087e-02 -1.878127e-01   \n",
       "x13    1.225503e-01  6.018301e-02   2.036294   4.172082e-02  4.593783e-03   \n",
       "x14    2.147513e-01  4.999803e-02   4.295195   1.745399e-05  1.167569e-01   \n",
       "x15    7.061400e-01  4.226749e-01   1.670646   9.479166e-02 -1.222875e-01   \n",
       "x16    3.417667e-01  4.686214e-02   7.293023   3.030753e-13  2.499186e-01   \n",
       "x17    1.328430e-01  4.195143e-02   3.166591   1.542369e-03  5.061974e-02   \n",
       "x18   -1.646625e-02  3.084180e-01  -0.053389   9.574217e-01 -6.209545e-01   \n",
       "x19   -9.562546e-01  8.428151e-01  -1.134596   2.565447e-01 -2.608142e+00   \n",
       "x20   -9.841264e-02  1.808723e-01  -0.544100   5.863726e-01 -4.529158e-01   \n",
       "x21    2.464923e+00  9.924865e-01   2.483583   1.300681e-02  5.196847e-01   \n",
       "\n",
       "             0.975]  \n",
       "const -6.821886e+07  \n",
       "x1     1.866087e-01  \n",
       "x2     1.710621e-01  \n",
       "x3     6.823166e-01  \n",
       "x4     7.091250e-01  \n",
       "x5     2.180098e-01  \n",
       "x6    -6.746590e-02  \n",
       "x7     1.998269e-01  \n",
       "x8     8.975601e+06  \n",
       "x9     8.975601e+06  \n",
       "x10    3.093612e-01  \n",
       "x11    3.515086e-01  \n",
       "x12    6.378974e-03  \n",
       "x13    2.405069e-01  \n",
       "x14    3.127456e-01  \n",
       "x15    1.534568e+00  \n",
       "x16    4.336148e-01  \n",
       "x17    2.150663e-01  \n",
       "x18    5.880220e-01  \n",
       "x19    6.956327e-01  \n",
       "x20    2.560905e-01  \n",
       "x21    4.410160e+00  "
      ]
     },
     "execution_count": 16,
     "metadata": {},
     "output_type": "execute_result"
    }
   ],
   "source": [
    "X_train_smf = sm.add_constant(df[feature_array]) #Using only the chosen predictors\n",
    "est = smf.Logit(y, np.asarray(X_train_smf)).fit()\n",
    "est.summary2().tables[1]"
   ]
  },
  {
   "cell_type": "markdown",
   "metadata": {},
   "source": [
    "### Mathematical Form of the Model\n",
    "\n",
    "##### Purchase = - 7.449964e+07 + 8.910453e-02*x1 - 2.604175e-01*x2 + 4.821765e-01*x3 + 4.903408e-01*x4 + 1.270156e-01*x5 - 1.568107e-01*x6 + 6.349409e-02*x7 + 8.277736e+06*x8 + 8.277736e+06*x9 + 1.866912e-01*x10 + 1.993996e-1*x11 - 9.071687e-02*x12 + 1.225503e-01*x13 + 2.147513e-01*x14 + 7.061400e-01*x15 + 3.417667e-01*x16 + 1.328430e-01*x17 - 1.646625e-01*x18 - 9.562546e-01*x19 - 9.841264e-02*x20 + 2.464923e00*x21 + error\n",
    "\n",
    "###### Here [x1, x2, x3, ...., x21] is same as feature_array\n",
    "\n",
    "                "
   ]
  },
  {
   "cell_type": "markdown",
   "metadata": {},
   "source": [
    "### Evaluating the Model"
   ]
  },
  {
   "cell_type": "code",
   "execution_count": 17,
   "metadata": {},
   "outputs": [
    {
     "name": "stdout",
     "output_type": "stream",
     "text": [
      "True          0   1\n",
      "Predicted          \n",
      "0          1092  69\n",
      "1             4   0\n",
      "              precision    recall  f1-score   support\n",
      "\n",
      "           0       0.94      1.00      0.97      1096\n",
      "           1       0.00      0.00      0.00        69\n",
      "\n",
      "    accuracy                           0.94      1165\n",
      "   macro avg       0.47      0.50      0.48      1165\n",
      "weighted avg       0.88      0.94      0.91      1165\n",
      "\n"
     ]
    }
   ],
   "source": [
    "X_one_train = X_train[feature_array].values.reshape(-1, len(feature_array))\n",
    "X_one_test = X_test[feature_array].values.reshape(-1, len(feature_array))\n",
    "regr = skl_lm.LogisticRegression()\n",
    "regr.fit(X_one_train, y_train) # Fit on train data\n",
    "pred = regr.predict(X_one_test) # Test on test data\n",
    "cm_df = pd.DataFrame(confusion_matrix(y_test, pred).T, index=regr.classes_,\n",
    "                     columns=regr.classes_)\n",
    "cm_df.index.name = 'Predicted'\n",
    "cm_df.columns.name = 'True'\n",
    "print(cm_df)\n",
    "print(classification_report(y_test, pred))"
   ]
  },
  {
   "cell_type": "code",
   "execution_count": 18,
   "metadata": {},
   "outputs": [
    {
     "data": {
      "text/plain": [
       "93.73390557939915"
      ]
     },
     "execution_count": 18,
     "metadata": {},
     "output_type": "execute_result"
    }
   ],
   "source": [
    "regr.score(X_one_test, y_test)*100 # accuracy"
   ]
  },
  {
   "cell_type": "markdown",
   "metadata": {},
   "source": [
    "### Mapping Probability as a function of MINKGEM"
   ]
  },
  {
   "cell_type": "code",
   "execution_count": 19,
   "metadata": {},
   "outputs": [],
   "source": [
    "new_y = list(map(lambda x: 1 if(x == \"Yes\") else 0, y)) # f(x) = 1 if x = yes else 0\n",
    "new_y = np.asarray(new_y).reshape(-1, 1) "
   ]
  },
  {
   "cell_type": "code",
   "execution_count": 20,
   "metadata": {},
   "outputs": [
    {
     "data": {
      "image/png": "[encoded data removed]",
      "text/plain": [
       "<Figure size 864x360 with 2 Axes>"
      ]
     },
     "metadata": {
      "needs_background": "light"
     },
     "output_type": "display_data"
    }
   ],
   "source": [
    "X_temp = df.MINKGEM.values.reshape(-1,1) \n",
    "\n",
    "# Create array of test data. Calculate the classification probability\n",
    "# and predicted classification.\n",
    "X_test_temp = np.arange(df.MINKGEM.min(), df.MINKGEM.max()).reshape(-1,1)\n",
    "\n",
    "clf = skl_lm.LogisticRegression(solver='newton-cg')\n",
    "clf.fit(X_temp,y)\n",
    "prob = clf.predict_proba(X_test_temp)\n",
    "\n",
    "fig, (ax1, ax2) = plt.subplots(1,2, figsize=(12,5))\n",
    "# Left plot: Linear\n",
    "sns.regplot(df.MINKGEM, new_y, order=1, ci=None,\n",
    "            scatter_kws={'color':'orange'},\n",
    "            line_kws={'color':'lightblue', 'lw':2}, ax=ax1)\n",
    "# Right plot: Polynomialish (Ideally sort of S shaped)\n",
    "ax2.scatter(X_temp, y, color='orange')\n",
    "ax2.plot(X_test_temp, prob[:,1], color='lightblue')\n",
    "\n",
    "for ax in fig.axes:\n",
    "    ax.hlines(1, xmin=ax.xaxis.get_data_interval()[0],\n",
    "              xmax=ax.xaxis.get_data_interval()[1], linestyles='dashed', lw=1)\n",
    "    ax.hlines(0, xmin=ax.xaxis.get_data_interval()[0],\n",
    "              xmax=ax.xaxis.get_data_interval()[1], linestyles='dashed', lw=1)\n",
    "    ax.set_ylabel('Probability of Buying Caravan Insurance')\n",
    "    ax.set_xlabel('MINKGEM')\n",
    "    ax.set_yticks([0, 0.25, 0.5, 0.75, 1.])\n",
    "    ax.set_xlim(left=0)\n",
    "    \n",
    "# The left graph shows almost a horizontal prediction line at zero, \n",
    "# indicating prediction on the bases of MINKGEM would always yield 0\n",
    "# In some cases (depending on split in test and train datasets), the line is slightly sloped"
   ]
  },
  {
   "cell_type": "markdown",
   "metadata": {},
   "source": [
    "## Linear Discriminate Analysis"
   ]
  },
  {
   "cell_type": "code",
   "execution_count": 21,
   "metadata": {},
   "outputs": [
    {
     "data": {
      "text/html": [
       "<div>\n",
       "<style scoped>\n",
       "    .dataframe tbody tr th:only-of-type {\n",
       "        vertical-align: middle;\n",
       "    }\n",
       "\n",
       "    .dataframe tbody tr th {\n",
       "        vertical-align: top;\n",
       "    }\n",
       "\n",
       "    .dataframe thead th {\n",
       "        text-align: right;\n",
       "    }\n",
       "</style>\n",
       "<table border=\"1\" class=\"dataframe\">\n",
       "  <thead>\n",
       "    <tr style=\"text-align: right;\">\n",
       "      <th>True status</th>\n",
       "      <th>No</th>\n",
       "      <th>Yes</th>\n",
       "    </tr>\n",
       "    <tr>\n",
       "      <th>Predicted status</th>\n",
       "      <th></th>\n",
       "      <th></th>\n",
       "    </tr>\n",
       "  </thead>\n",
       "  <tbody>\n",
       "    <tr>\n",
       "      <td>No</td>\n",
       "      <td>1089</td>\n",
       "      <td>67</td>\n",
       "    </tr>\n",
       "    <tr>\n",
       "      <td>Yes</td>\n",
       "      <td>7</td>\n",
       "      <td>2</td>\n",
       "    </tr>\n",
       "  </tbody>\n",
       "</table>\n",
       "</div>"
      ],
      "text/plain": [
       "True status         No  Yes\n",
       "Predicted status           \n",
       "No                1089   67\n",
       "Yes                  7    2"
      ]
     },
     "execution_count": 21,
     "metadata": {},
     "output_type": "execute_result"
    }
   ],
   "source": [
    "# X = df[['MOSTYPE', 'MOSHOOFD', 'MRELGE', 'MRELOV', 'MOPLHOOG', 'MOPLLAAG', 'MSKD', 'MHHUUR', 'MHKOOP', 'MAUT1', 'MAUT0', \n",
    "#         'MINKM30', 'MINKGEM', 'MKOOPKLA', 'PWAPART', 'PPERSAUT', 'PBRAND', 'PPLEZIER', 'AWAPART', 'APERSAUT', \n",
    "#         'APLEZIER']].as_matrix()\n",
    "X_lda_train = X_train[feature_array].values.reshape(-1, len(feature_array))\n",
    "X_lda_test = X_test[feature_array].values.reshape(-1, len(feature_array))\n",
    "# y = df.Purchase.as_matrix()\n",
    "\n",
    "lda = LinearDiscriminantAnalysis(solver='svd')\n",
    "model = lda.fit(X_lda_train, y_train)\n",
    "y_pred = model.predict(X_lda_test)\n",
    "\n",
    "df_ = pd.DataFrame({'True status': y_test,\n",
    "                    'Predicted status': y_pred})\n",
    "df_.replace(to_replace={0:'No', 1:'Yes'}, inplace=True)\n",
    "\n",
    "df_.groupby(['Predicted status','True status']).size().unstack('True status')"
   ]
  },
  {
   "cell_type": "code",
   "execution_count": 22,
   "metadata": {},
   "outputs": [
    {
     "data": {
      "text/plain": [
       "93.6480686695279"
      ]
     },
     "execution_count": 22,
     "metadata": {},
     "output_type": "execute_result"
    }
   ],
   "source": [
    "model.score(X_lda_test, y_test)*100 #accuracy"
   ]
  },
  {
   "cell_type": "code",
   "execution_count": 23,
   "metadata": {},
   "outputs": [
    {
     "name": "stdout",
     "output_type": "stream",
     "text": [
      "              precision    recall  f1-score   support\n",
      "\n",
      "          No       0.94      0.99      0.97      1096\n",
      "         Yes       0.22      0.03      0.05        69\n",
      "\n",
      "    accuracy                           0.94      1165\n",
      "   macro avg       0.58      0.51      0.51      1165\n",
      "weighted avg       0.90      0.94      0.91      1165\n",
      "\n"
     ]
    }
   ],
   "source": [
    "print(classification_report(y_test, y_pred, target_names=['No', 'Yes']))"
   ]
  },
  {
   "cell_type": "code",
   "execution_count": 24,
   "metadata": {},
   "outputs": [
    {
     "data": {
      "text/html": [
       "<div>\n",
       "<style scoped>\n",
       "    .dataframe tbody tr th:only-of-type {\n",
       "        vertical-align: middle;\n",
       "    }\n",
       "\n",
       "    .dataframe tbody tr th {\n",
       "        vertical-align: top;\n",
       "    }\n",
       "\n",
       "    .dataframe thead th {\n",
       "        text-align: right;\n",
       "    }\n",
       "</style>\n",
       "<table border=\"1\" class=\"dataframe\">\n",
       "  <thead>\n",
       "    <tr style=\"text-align: right;\">\n",
       "      <th>True insured status</th>\n",
       "      <th>No</th>\n",
       "      <th>Yes</th>\n",
       "    </tr>\n",
       "    <tr>\n",
       "      <th>Predicted insured status</th>\n",
       "      <th></th>\n",
       "      <th></th>\n",
       "    </tr>\n",
       "  </thead>\n",
       "  <tbody>\n",
       "    <tr>\n",
       "      <td>No</td>\n",
       "      <td>1053</td>\n",
       "      <td>60</td>\n",
       "    </tr>\n",
       "    <tr>\n",
       "      <td>Yes</td>\n",
       "      <td>43</td>\n",
       "      <td>9</td>\n",
       "    </tr>\n",
       "  </tbody>\n",
       "</table>\n",
       "</div>"
      ],
      "text/plain": [
       "True insured status         No  Yes\n",
       "Predicted insured status           \n",
       "No                        1053   60\n",
       "Yes                         43    9"
      ]
     },
     "execution_count": 24,
     "metadata": {},
     "output_type": "execute_result"
    }
   ],
   "source": [
    "decision_prob = 0.2\n",
    "y_prob_temp = lda.fit(X_lda_train, y_train)\n",
    "y_prob = y_prob_temp.predict_proba(X_lda_test)\n",
    "\n",
    "df_ = pd.DataFrame({'True insured status': y_test,\n",
    "                    'Predicted insured status': y_prob[:,1] > decision_prob})\n",
    "df_.replace(to_replace={0:'No', 1:'Yes', 'True':'Yes', 'False':'No'}, inplace=True)\n",
    "\n",
    "df_.groupby(['Predicted insured status','True insured status']).size().unstack('True insured status')"
   ]
  },
  {
   "cell_type": "code",
   "execution_count": 25,
   "metadata": {},
   "outputs": [
    {
     "data": {
      "text/plain": [
       "array([0.94009019, 0.05990981])"
      ]
     },
     "execution_count": 25,
     "metadata": {},
     "output_type": "execute_result"
    }
   ],
   "source": [
    "y_prob_temp.priors_ # Apriori probability of getting no and yes respectively"
   ]
  },
  {
   "cell_type": "code",
   "execution_count": 26,
   "metadata": {
    "scrolled": true
   },
   "outputs": [
    {
     "data": {
      "text/plain": [
       "array([[2.44378712e+01, 5.81544084e+00, 6.14641389e+00, 2.30950206e+00,\n",
       "        1.43238922e+00, 4.61557789e+00, 1.08177250e+00, 4.29168570e+00,\n",
       "        4.71767931e+00, 6.00639561e+00, 1.98126999e+00, 2.61809045e+00,\n",
       "        3.76815898e+00, 4.19735039e+00, 7.55367748e-01, 2.82594792e+00,\n",
       "        1.80082229e+00, 9.59342165e-03, 3.96984925e-01, 5.33348561e-01,\n",
       "        3.19780722e-03],\n",
       "       [2.03261649e+01, 4.89964158e+00, 6.78136201e+00, 1.81003584e+00,\n",
       "        2.02150538e+00, 3.63799283e+00, 6.48745520e-01, 3.16129032e+00,\n",
       "        5.83870968e+00, 6.48387097e+00, 1.45161290e+00, 1.86379928e+00,\n",
       "        4.30465950e+00, 5.11827957e+00, 1.17204301e+00, 4.81003584e+00,\n",
       "        2.64157706e+00, 1.39784946e-01, 5.91397849e-01, 9.24731183e-01,\n",
       "        4.30107527e-02]])"
      ]
     },
     "execution_count": 26,
     "metadata": {},
     "output_type": "execute_result"
    }
   ],
   "source": [
    "y_prob_temp.means_ # b0 for Purches = Yes or No of linerar fit"
   ]
  },
  {
   "cell_type": "code",
   "execution_count": 27,
   "metadata": {},
   "outputs": [
    {
     "data": {
      "text/plain": [
       "array([[ 0.1185567 , -0.53693548,  0.20846345,  0.10858621,  0.05017007,\n",
       "        -0.07516196, -0.07212481, -1.15288533, -1.11965474,  0.12059458,\n",
       "         0.08727731,  0.00370417,  0.06342993,  0.09231537,  0.78888772,\n",
       "         0.1861642 ,  0.15017482,  1.22779776, -1.14618778,  0.17239544,\n",
       "         2.65671844]])"
      ]
     },
     "execution_count": 27,
     "metadata": {},
     "output_type": "execute_result"
    }
   ],
   "source": [
    "y_prob_temp.coef_ # b1, b2, ...., b21 of linear fit"
   ]
  },
  {
   "cell_type": "code",
   "execution_count": 28,
   "metadata": {},
   "outputs": [
    {
     "data": {
      "text/plain": [
       "(array([False,  True]), array([1156,    9]))"
      ]
     },
     "execution_count": 28,
     "metadata": {},
     "output_type": "execute_result"
    }
   ],
   "source": [
    "np.unique(y_prob[:,1]>0.5, return_counts=True) # Predictions of yes or no based on probability "
   ]
  },
  {
   "cell_type": "code",
   "execution_count": 29,
   "metadata": {},
   "outputs": [
    {
     "data": {
      "text/plain": [
       "(array([False,  True]), array([1159,    6]))"
      ]
     },
     "execution_count": 29,
     "metadata": {},
     "output_type": "execute_result"
    }
   ],
   "source": [
    "np.unique(y_prob[:,1]>0.9, return_counts=True) # Same prediction but higher threshold"
   ]
  },
  {
   "cell_type": "markdown",
   "metadata": {},
   "source": [
    "###### Final Considerations:"
   ]
  },
  {
   "cell_type": "code",
   "execution_count": 30,
   "metadata": {},
   "outputs": [],
   "source": [
    "# We could not run confounding the categorical variables had multiple levels\n",
    "\n",
    "# The model shows the following factors affect the buying of insurance policy:\n",
    "#     purchasing power class\n",
    "#     income and income levels\n",
    "#     education levels\n",
    "#     house types\n",
    "#     family types\n",
    "#     policies in car, boat, fire and 3rd party"
   ]
  }
 ],
 "metadata": {
  "kernelspec": {
   "display_name": "Python 3",
   "language": "python",
   "name": "python3"
  },
  "language_info": {
   "codemirror_mode": {
    "name": "ipython",
    "version": 3
   },
   "file_extension": ".py",
   "mimetype": "text/x-python",
   "name": "python",
   "nbconvert_exporter": "python",
   "pygments_lexer": "ipython3",
   "version": "3.7.4"
  }
 },
 "nbformat": 4,
 "nbformat_minor": 2
}
